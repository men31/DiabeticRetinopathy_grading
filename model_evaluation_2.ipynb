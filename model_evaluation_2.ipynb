{
 "cells": [
  {
   "cell_type": "markdown",
   "metadata": {},
   "source": [
    "# Evaluation notebook 2\n",
    "## proposed to observe the all model's performance in a directory"
   ]
  },
  {
   "cell_type": "markdown",
   "metadata": {},
   "source": [
    "## Contents:\n",
    "- Notebook configuration\n",
    "- Load validataion data\n",
    "- Model evaluation\n",
    "    - Test main model\n",
    "    - Test imbalance sampler\n",
    "    - Test CE loss\n",
    "    - Test WCE loss\n",
    "    - Test Focal loss\n",
    "    - Test activation function\n",
    "    - Test batch size"
   ]
  },
  {
   "cell_type": "code",
   "execution_count": 1,
   "metadata": {},
   "outputs": [],
   "source": [
    "import os, sys\n",
    "import tqdm\n",
    "import datetime\n",
    "\n",
    "import torch\n",
    "import torch.nn as nn\n",
    "import torch.nn.functional as F\n",
    "from torchvision.ops import sigmoid_focal_loss\n",
    "from torch.utils.data import DataLoader\n",
    "from torchvision.transforms import v2\n",
    "from torcheval.metrics.functional import multiclass_f1_score\n",
    "from sklearn.metrics import cohen_kappa_score, f1_score, jaccard_score, roc_auc_score, accuracy_score, auc\n",
    "\n",
    "import seaborn as sns\n",
    "import pandas as pd\n",
    "import numpy as np\n",
    "import matplotlib.pyplot as plt\n",
    "from sklearn.metrics import classification_report, RocCurveDisplay, confusion_matrix, precision_recall_curve\n",
    "from itertools import cycle\n",
    "\n",
    "from model import *\n",
    "from utils.evaluation import *\n",
    "from APTOS_dataset import APTOS_dataset"
   ]
  },
  {
   "cell_type": "markdown",
   "metadata": {},
   "source": [
    "## Notebook configuration"
   ]
  },
  {
   "cell_type": "code",
   "execution_count": 2,
   "metadata": {},
   "outputs": [],
   "source": [
    "plt.rcParams['pdf.fonttype'] = 42\n",
    "plt.rcParams['ps.fonttype'] = 42\n",
    "# plt.rcParams['font.family'] = 'sans-serif'\n",
    "plt.rcParams[\"font.family\"] = \"serif\"\n",
    "plt.rcParams[\"font.serif\"] = [\"Times New Roman\"]\n",
    "plt.rcParams['font.size'] = 14\n",
    "plt.rcParams['axes.labelpad']='2'\n",
    "plt.rcParams['legend.numpoints'] = 1\n",
    "plt.rcParams['legend.scatterpoints'] = 1\n",
    "plt.rcParams['mathtext.default'] = 'regular'\n",
    "plt.rcParams['lines.markersize'] = 5"
   ]
  },
  {
   "cell_type": "markdown",
   "metadata": {},
   "source": [
    "## Load data"
   ]
  },
  {
   "cell_type": "code",
   "execution_count": 3,
   "metadata": {},
   "outputs": [],
   "source": [
    "img_dir = r'D:\\Aj_Aof_Work\\OCT_Disease\\DATASET\\APTOS2019_V2\\images'\n",
    "val_label_dir = r'D:\\Aj_Aof_Work\\OCT_Disease\\DATASET\\APTOS2019_V2\\labels\\val.csv'\n",
    "# transforms_val = v2.Compose([\n",
    "#                     v2.ToTensor(),\n",
    "#                     v2.RandomHorizontalFlip(),\n",
    "#                     v2.RandomAutocontrast(),\n",
    "#                     v2.RandomRotation(degrees=(0, 180)),\n",
    "#                     # v2.Normalize([0.41333666, 0.22077196, 0.0735625], \n",
    "#                     #             [0.23908101, 0.13196332, 0.04935341]), \n",
    "#                     v2.Resize((256, 256)),\n",
    "#                     ])\n",
    "\n",
    "transforms_val = v2.Compose([\n",
    "                    v2.ToTensor(),\n",
    "                    v2.Normalize([0.41333666, 0.22077196, 0.0735625], \n",
    "                                [0.23908101, 0.13196332, 0.04935341]), \n",
    "                    v2.Resize((256, 256)),\n",
    "                    ])\n",
    "\n",
    "dataset = APTOS_dataset(img_dir, val_label_dir, transform=transforms_val, balancing=False)\n",
    "val_loader = DataLoader(dataset, batch_size=32, shuffle=False, num_workers=6)\n",
    "\n",
    "device = torch.device('cuda:0' if torch.cuda.is_available else 'cpu')"
   ]
  },
  {
   "cell_type": "code",
   "execution_count": 26,
   "metadata": {},
   "outputs": [],
   "source": [
    "# num_img = 10\n",
    "# num_col = 5\n",
    "# num_row = num_img // num_col + 1 if num_img % num_col >= 1 else num_img // num_col\n",
    "\n",
    "# plt.figure(figsize=(4 * num_col, 4 *num_row))\n",
    "\n",
    "# for i in range(10):\n",
    "#     img = dataset[i]['image']\n",
    "#     a_img = img.permute(1, 2, 0).numpy()\n",
    "#     plt.subplot(num_row, num_col, i+1)\n",
    "#     plt.imshow(a_img)\n",
    "# plt.tight_layout()"
   ]
  },
  {
   "cell_type": "markdown",
   "metadata": {},
   "source": [
    "## Model evaluation"
   ]
  },
  {
   "cell_type": "markdown",
   "metadata": {},
   "source": [
    "### Test main model"
   ]
  },
  {
   "cell_type": "code",
   "execution_count": 3,
   "metadata": {},
   "outputs": [],
   "source": [
    "img_dir = r'D:\\Aj_Aof_Work\\OCT_Disease\\DATASET\\APTOS2019_V2\\images'\n",
    "test_label_dir = r'D:\\Aj_Aof_Work\\OCT_Disease\\DATASET\\APTOS2019_V2\\labels\\test.csv'\n",
    "\n",
    "transforms_test = v2.Compose([\n",
    "                    v2.ToTensor(),\n",
    "                    v2.Normalize([0.41333666, 0.22077196, 0.0735625], \n",
    "                                [0.23908101, 0.13196332, 0.04935341]), \n",
    "                    v2.Resize((256, 256))])\n",
    "\n",
    "dataset = APTOS_dataset(img_dir, test_label_dir, transform=transforms_test, balancing=False)\n",
    "test_loader = DataLoader(dataset, batch_size=32, shuffle=False, num_workers=6)\n",
    "\n",
    "device = torch.device('cuda:0' if torch.cuda.is_available else 'cpu')"
   ]
  },
  {
   "cell_type": "code",
   "execution_count": 4,
   "metadata": {},
   "outputs": [
    {
     "data": {
      "text/plain": [
       "{0: '.vs',\n",
       " 1: 'densenet161_CEloss_v1',\n",
       " 2: 'densenet161_Floss_v1',\n",
       " 3: 'densenet161_Imsampler_CEloss_QOloss__v1',\n",
       " 4: 'densenet161_Imsampler_CEloss_v1',\n",
       " 5: 'densenet161_Imsampler_Floss_v1',\n",
       " 6: 'inception_v3_CEloss_v1',\n",
       " 7: 'inception_v3_Floss_v1',\n",
       " 8: 'inception_v3_Imsampler_CEloss_v1',\n",
       " 9: 'inception_v3_Imsampler_Floss_v1',\n",
       " 10: 'resnet50_CEloss_v1',\n",
       " 11: 'resnet50_Floss_v1',\n",
       " 12: 'resnet50_Imsampler_CEloss_v1',\n",
       " 13: 'resnet50_Imsampler_Floss_v1',\n",
       " 14: 'swin_s_CEloss_v1',\n",
       " 15: 'swin_s_Floss_v1',\n",
       " 16: 'swin_s_Imsampler_CEloss_QOloss__v1',\n",
       " 17: 'swin_s_Imsampler_CEloss_v1',\n",
       " 18: 'swin_s_Imsampler_Floss_v1',\n",
       " 19: 'vgg19_CEloss_v1',\n",
       " 20: 'vgg19_Floss_v1',\n",
       " 21: 'vgg19_Imsampler_CEloss_v1',\n",
       " 22: 'vgg19_Imsampler_Floss_v1'}"
      ]
     },
     "execution_count": 4,
     "metadata": {},
     "output_type": "execute_result"
    }
   ],
   "source": [
    "model_stocks = Call_Model(r'D:\\Aj_Aof_Work\\OCT_Disease\\Grading\\Training_results')\n",
    "# model_stocks = Call_Model(r'D:\\Aj_Aof_Work\\OCT_Disease\\Grading\\Training_result_vary_batch')\n",
    "\n",
    "model_stocks.model_list"
   ]
  },
  {
   "cell_type": "code",
   "execution_count": 5,
   "metadata": {},
   "outputs": [
    {
     "name": "stderr",
     "output_type": "stream",
     "text": [
      "100%|██████████| 23/23 [00:22<00:00,  1.02it/s]\n"
     ]
    }
   ],
   "source": [
    "num = 4\n",
    "actual_lst, pred_lst, prob_lst = model_stocks.test_model(num, test_loader, device, return_prob=True)\n",
    "kappa = cohen_kappa_score(actual_lst, pred_lst, weights='quadratic')\n",
    "f1_macro = f1_score(actual_lst, pred_lst, average='macro')\n",
    "f1_micro = f1_score(actual_lst, pred_lst, average='micro')\n",
    "roc_macro = roc_auc_score(actual_lst, prob_lst, average='macro', multi_class='ovr')\n",
    "roc_micro = roc_auc_score(actual_lst, prob_lst, average='micro', multi_class='ovr')\n",
    "acc = accuracy_score(actual_lst, pred_lst)"
   ]
  },
  {
   "cell_type": "code",
   "execution_count": 6,
   "metadata": {},
   "outputs": [
    {
     "name": "stdout",
     "output_type": "stream",
     "text": [
      "Model name: densenet161_Imsampler_CEloss_v1\n",
      "acc=0.7893296853625171, f1_micro=0.7893296853625171, roc_micro=0.9591465320261022, f1_macro=0.6451298891469749, roc_macro=0.9291801863734894, kappa=0.8690670977142537\n"
     ]
    }
   ],
   "source": [
    "\"\"\" Balance test data \"\"\"\n",
    "print('Model name:', model_stocks.model_list[num])\n",
    "print(f'{acc=}, {f1_micro=}, {roc_micro=}, {f1_macro=}, {roc_macro=}, {kappa=}')"
   ]
  },
  {
   "cell_type": "code",
   "execution_count": 17,
   "metadata": {},
   "outputs": [
    {
     "name": "stdout",
     "output_type": "stream",
     "text": [
      "Model name: densenet161_Imsampler_CEloss_v1\n",
      "acc=0.7893296853625171, f1_micro=0.7893296853625171, roc_micro=0.9591465320261022, f1_macro=0.6451298891469749, roc_macro=0.9291801863734894, kappa=0.8690670977142537\n"
     ]
    }
   ],
   "source": [
    "print('Model name:', model_stocks.model_list[num])\n",
    "print(f'{acc=}, {f1_micro=}, {roc_micro=}, {f1_macro=}, {roc_macro=}, {kappa=}')"
   ]
  },
  {
   "cell_type": "code",
   "execution_count": 18,
   "metadata": {},
   "outputs": [
    {
     "data": {
      "image/png": "[encoded data removed]",
      "text/plain": [
       "<Figure size 640x480 with 1 Axes>"
      ]
     },
     "metadata": {},
     "output_type": "display_data"
    }
   ],
   "source": [
    "plt.rcParams['font.size'] = 24\n",
    "cm = confusion_matrix(actual_lst, pred_lst)\n",
    "sns.heatmap(cm, annot=True, fmt='.0f', cbar=False)\n",
    "plt.ylabel('Ground-truth class')\n",
    "plt.xlabel('Prediction class')\n",
    "plt.show()"
   ]
  },
  {
   "cell_type": "code",
   "execution_count": 20,
   "metadata": {},
   "outputs": [],
   "source": [
    "num_class = 3\n",
    "a = prob_lst[:, num_class]\n",
    "b = (actual_lst == num_class).astype(int)\n",
    "fpr_lst, tpr_lst = [], []\n",
    "precision_lst, recall_lst = [], []\n",
    "for a_thersh in np.linspace(0, 1, 100):\n",
    "    aa = (a >= a_thersh).astype(int)\n",
    "    cm = confusion_matrix(b, aa)\n",
    "    (tn, fp, fn, tp) = cm.ravel()\n",
    "    tpr = tp / (tp + fn)\n",
    "    fpr = fp / (fp + tn)\n",
    "    fpr_lst.append(fpr)\n",
    "    tpr_lst.append(tpr)\n",
    "    precision = tp / (tp + fp)\n",
    "    if np.isnan(precision):\n",
    "        precision = 1\n",
    "    recall = tp / (tp + fn)\n",
    "    precision_lst.append(precision)\n",
    "    recall_lst.append(recall)"
   ]
  },
  {
   "cell_type": "code",
   "execution_count": 21,
   "metadata": {},
   "outputs": [
    {
     "data": {
      "text/plain": [
       "(-0.2, 1.2)"
      ]
     },
     "execution_count": 21,
     "metadata": {},
     "output_type": "execute_result"
    },
    {
     "data": {
      "image/png": "[encoded data removed]",
      "text/plain": [
       "<Figure size 640x480 with 1 Axes>"
      ]
     },
     "metadata": {},
     "output_type": "display_data"
    }
   ],
   "source": [
    "plt.plot(fpr_lst, tpr_lst, '.-', label=f'class: {num_class}, AUC: {np.round(auc(fpr_lst, tpr_lst), 3)}')\n",
    "plt.xlabel('FPR')\n",
    "plt.ylabel('TPR')\n",
    "plt.legend()\n",
    "plt.ylim([-0.2, 1.2])"
   ]
  },
  {
   "cell_type": "code",
   "execution_count": 22,
   "metadata": {},
   "outputs": [
    {
     "data": {
      "text/plain": [
       "(-0.2, 1.2)"
      ]
     },
     "execution_count": 22,
     "metadata": {},
     "output_type": "execute_result"
    },
    {
     "data": {
      "image/png": "[encoded data removed]",
      "text/plain": [
       "<Figure size 640x480 with 1 Axes>"
      ]
     },
     "metadata": {},
     "output_type": "display_data"
    }
   ],
   "source": [
    "plt.plot(recall_lst, precision_lst, '.-', label=f'class: {num_class}, AUC: {np.round(auc(recall_lst, precision_lst), 3)}')\n",
    "plt.xlabel('Recall')\n",
    "plt.ylabel('Precision')\n",
    "plt.legend()\n",
    "plt.ylim([-0.2, 1.2])"
   ]
  },
  {
   "cell_type": "code",
   "execution_count": 47,
   "metadata": {},
   "outputs": [
    {
     "name": "stdout",
     "output_type": "stream",
     "text": [
      "              precision    recall  f1-score   support\n",
      "\n",
      "           0       0.95      0.98      0.97       361\n",
      "           1       0.53      0.62      0.57        74\n",
      "           2       0.78      0.63      0.70       199\n",
      "           3       0.40      0.58      0.47        38\n",
      "           4       0.53      0.51      0.52        59\n",
      "\n",
      "    accuracy                           0.79       731\n",
      "   macro avg       0.64      0.66      0.65       731\n",
      "weighted avg       0.80      0.79      0.79       731\n",
      "\n"
     ]
    },
    {
     "data": {
      "image/png": "[encoded data removed]",
      "text/plain": [
       "<Figure size 700x700 with 1 Axes>"
      ]
     },
     "metadata": {},
     "output_type": "display_data"
    }
   ],
   "source": [
    "from sklearn.metrics import classification_report, RocCurveDisplay\n",
    "from itertools import cycle\n",
    "\n",
    "print(classification_report(actual_lst, pred_lst))\n",
    "\n",
    "n_classes = 5\n",
    "target_names = [0, 1, 2, 3, 4]\n",
    "\n",
    "plt.rcParams['font.size'] = 16\n",
    "fig, ax = plt.subplots(figsize=(7, 7))\n",
    "\n",
    "colors = cycle([\"aqua\", \"darkorange\", \"cornflowerblue\", 'green', 'red'])\n",
    "for class_id, color in zip(range(n_classes), colors):\n",
    "    # print(class_id)\n",
    "    RocCurveDisplay.from_predictions(\n",
    "        (actual_lst == class_id).astype(int),\n",
    "        prob_lst[:, class_id],\n",
    "        name=f\"ROC curve for {target_names[class_id]}\",\n",
    "        color=color,\n",
    "        ax=ax,\n",
    "        plot_chance_level=(class_id == 4),\n",
    "    )\n",
    "\n",
    "# _ = ax.set(\n",
    "#     xlabel=\"False Positive Rate\",\n",
    "#     ylabel=\"True Positive Rate\",\n",
    "#     title=\"ROC-curve\"\n",
    "# )\n",
    "_ = ax.set_xlabel(\"False Positive Rate\", fontsize=20)\n",
    "_ = ax.set_ylabel(\"True Positive Rate\", fontsize=20)\n",
    "_ = ax.set_title(\"ROC-curve\", fontsize=20)\n",
    "plt.tight_layout()\n",
    "plt.show()"
   ]
  },
  {
   "cell_type": "code",
   "execution_count": 48,
   "metadata": {},
   "outputs": [
    {
     "name": "stdout",
     "output_type": "stream",
     "text": [
      "              precision    recall  f1-score   support\n",
      "\n",
      "           0       0.95      0.98      0.97       361\n",
      "           1       0.53      0.62      0.57        74\n",
      "           2       0.78      0.63      0.70       199\n",
      "           3       0.40      0.58      0.47        38\n",
      "           4       0.53      0.51      0.52        59\n",
      "\n",
      "    accuracy                           0.79       731\n",
      "   macro avg       0.64      0.66      0.65       731\n",
      "weighted avg       0.80      0.79      0.79       731\n",
      "\n"
     ]
    },
    {
     "data": {
      "image/png": "[encoded data removed]",
      "text/plain": [
       "<Figure size 700x700 with 1 Axes>"
      ]
     },
     "metadata": {},
     "output_type": "display_data"
    }
   ],
   "source": [
    "from sklearn.metrics import classification_report, RocCurveDisplay, PrecisionRecallDisplay\n",
    "from itertools import cycle\n",
    "\n",
    "print(classification_report(actual_lst, pred_lst))\n",
    "\n",
    "n_classes = 5\n",
    "target_names = [0, 1, 2, 3, 4]\n",
    "\n",
    "plt.rcParams['font.size'] = 16\n",
    "fig, ax = plt.subplots(figsize=(7, 7))\n",
    "\n",
    "colors = cycle([\"aqua\", \"darkorange\", \"cornflowerblue\", 'green', 'red'])\n",
    "for class_id, color in zip(range(n_classes), colors):\n",
    "    # print(class_id)\n",
    "    PrecisionRecallDisplay.from_predictions(\n",
    "        (actual_lst == class_id).astype(int),\n",
    "        prob_lst[:, class_id], \n",
    "        name=f\"PR curve for {target_names[class_id]}\", \n",
    "        color=color,\n",
    "        ax=ax,\n",
    "        plot_chance_level=(class_id == 4)\n",
    "    )\n",
    "\n",
    "# _ = ax.set(\n",
    "#     xlabel=\"Recall\",\n",
    "#     ylabel=\"Precision\",\n",
    "#     title=\"PR-curve\",\n",
    "# )\n",
    "_ = ax.set_xlabel(\"Recall\", fontsize=20)\n",
    "_ = ax.set_ylabel(\"Precision\", fontsize=20)\n",
    "_ = ax.set_title(\"PR-curve\", fontsize=20)\n",
    "# plt.legend(bbox_to_anchor=(1.04, 1))\n",
    "plt.tight_layout()\n",
    "plt.show()"
   ]
  },
  {
   "cell_type": "markdown",
   "metadata": {},
   "source": [
    "### Test CE loss"
   ]
  },
  {
   "cell_type": "code",
   "execution_count": 27,
   "metadata": {},
   "outputs": [
    {
     "data": {
      "text/plain": [
       "{0: 'densenet161_Imsampler_CEloss_Batch16_v1',\n",
       " 1: 'densenet161_Imsampler_CEloss_Batch16_v2',\n",
       " 2: 'densenet161_Imsampler_CEloss_Batch32_v1',\n",
       " 3: 'densenet161_Imsampler_CEloss_Batch32_v2',\n",
       " 4: 'densenet161_Imsampler_CEloss_Batch4_v1',\n",
       " 5: 'densenet161_Imsampler_CEloss_Batch4_v2',\n",
       " 6: 'densenet161_Imsampler_CEloss_Batch64_v1',\n",
       " 7: 'densenet161_Imsampler_CEloss_Batch8_v1',\n",
       " 8: 'densenet161_Imsampler_CEloss_Batch8_v2',\n",
       " 9: 'densenet161_Imsampler_CEloss_Grokking_v1',\n",
       " 10: 'densenet161_Imsampler_CEloss_Grokking_v2',\n",
       " 11: 'densenet161_Imsampler_CEloss_Grokking_v3',\n",
       " 12: 'densenet161_Imsampler_CEloss_Grokking_v4'}"
      ]
     },
     "execution_count": 27,
     "metadata": {},
     "output_type": "execute_result"
    }
   ],
   "source": [
    "model_stocks = Call_Model(r'D:\\Aj_Aof_Work\\OCT_Disease\\Grading\\Training_results_loss_fn\\CE')\n",
    "# model_stocks = Call_Model(r'D:\\Aj_Aof_Work\\OCT_Disease\\Grading\\Training_result_vary_batch')\n",
    "\n",
    "model_stocks.model_list"
   ]
  },
  {
   "cell_type": "code",
   "execution_count": 28,
   "metadata": {},
   "outputs": [
    {
     "name": "stderr",
     "output_type": "stream",
     "text": [
      "100%|██████████| 23/23 [00:21<00:00,  1.06it/s]\n",
      "100%|██████████| 23/23 [00:21<00:00,  1.08it/s]\n",
      "100%|██████████| 23/23 [00:20<00:00,  1.10it/s]\n",
      "100%|██████████| 23/23 [00:20<00:00,  1.10it/s]\n",
      "100%|██████████| 23/23 [00:21<00:00,  1.09it/s]\n",
      "100%|██████████| 23/23 [00:21<00:00,  1.09it/s]\n",
      "100%|██████████| 23/23 [00:21<00:00,  1.09it/s]\n",
      "100%|██████████| 23/23 [00:21<00:00,  1.09it/s]\n",
      "100%|██████████| 23/23 [00:21<00:00,  1.09it/s]\n",
      "100%|██████████| 23/23 [00:21<00:00,  1.09it/s]\n",
      "100%|██████████| 23/23 [00:20<00:00,  1.10it/s]\n",
      "100%|██████████| 23/23 [00:21<00:00,  1.09it/s]\n",
      "100%|██████████| 23/23 [00:21<00:00,  1.08it/s]\n"
     ]
    }
   ],
   "source": [
    "result_df = model_stocks.roughly_evaluation_all_model(val_loader, device)"
   ]
  },
  {
   "cell_type": "code",
   "execution_count": 29,
   "metadata": {},
   "outputs": [
    {
     "name": "stdout",
     "output_type": "stream",
     "text": [
      "Model name: densenet\n",
      "ACC               0.798169\n",
      "F1 (micro)        0.798169\n",
      "AUCROC (micro)    0.958232\n",
      "F1 (macro)        0.655617\n",
      "AUCROC (macro)    0.929069\n",
      "QWK               0.850831\n",
      "dtype: float64\n",
      "Model name: swin\n",
      "ACC              NaN\n",
      "F1 (micro)       NaN\n",
      "AUCROC (micro)   NaN\n",
      "F1 (macro)       NaN\n",
      "AUCROC (macro)   NaN\n",
      "QWK              NaN\n",
      "dtype: float64\n"
     ]
    },
    {
     "data": {
      "text/html": [
       "<div>\n",
       "<style scoped>\n",
       "    .dataframe tbody tr th:only-of-type {\n",
       "        vertical-align: middle;\n",
       "    }\n",
       "\n",
       "    .dataframe tbody tr th {\n",
       "        vertical-align: top;\n",
       "    }\n",
       "\n",
       "    .dataframe thead th {\n",
       "        text-align: right;\n",
       "    }\n",
       "</style>\n",
       "<table border=\"1\" class=\"dataframe\">\n",
       "  <thead>\n",
       "    <tr style=\"text-align: right;\">\n",
       "      <th></th>\n",
       "      <th>Name</th>\n",
       "      <th>ACC</th>\n",
       "      <th>F1 (micro)</th>\n",
       "      <th>AUCROC (micro)</th>\n",
       "      <th>F1 (macro)</th>\n",
       "      <th>AUCROC (macro)</th>\n",
       "      <th>QWK</th>\n",
       "    </tr>\n",
       "  </thead>\n",
       "  <tbody>\n",
       "    <tr>\n",
       "      <th>0</th>\n",
       "      <td>densenet161_Imsampler_CEloss_Batch16_v1</td>\n",
       "      <td>0.783858</td>\n",
       "      <td>0.783858</td>\n",
       "      <td>0.956969</td>\n",
       "      <td>0.637696</td>\n",
       "      <td>0.928864</td>\n",
       "      <td>0.845677</td>\n",
       "    </tr>\n",
       "    <tr>\n",
       "      <th>1</th>\n",
       "      <td>densenet161_Imsampler_CEloss_Batch16_v2</td>\n",
       "      <td>0.800274</td>\n",
       "      <td>0.800274</td>\n",
       "      <td>0.957906</td>\n",
       "      <td>0.658935</td>\n",
       "      <td>0.929788</td>\n",
       "      <td>0.841179</td>\n",
       "    </tr>\n",
       "    <tr>\n",
       "      <th>2</th>\n",
       "      <td>densenet161_Imsampler_CEloss_Batch32_v1</td>\n",
       "      <td>0.792066</td>\n",
       "      <td>0.792066</td>\n",
       "      <td>0.960441</td>\n",
       "      <td>0.636113</td>\n",
       "      <td>0.928674</td>\n",
       "      <td>0.831019</td>\n",
       "    </tr>\n",
       "    <tr>\n",
       "      <th>3</th>\n",
       "      <td>densenet161_Imsampler_CEloss_Batch32_v2</td>\n",
       "      <td>0.792066</td>\n",
       "      <td>0.792066</td>\n",
       "      <td>0.959169</td>\n",
       "      <td>0.652755</td>\n",
       "      <td>0.931520</td>\n",
       "      <td>0.851009</td>\n",
       "    </tr>\n",
       "    <tr>\n",
       "      <th>4</th>\n",
       "      <td>densenet161_Imsampler_CEloss_Batch4_v1</td>\n",
       "      <td>0.803010</td>\n",
       "      <td>0.803010</td>\n",
       "      <td>0.956160</td>\n",
       "      <td>0.661649</td>\n",
       "      <td>0.925599</td>\n",
       "      <td>0.857337</td>\n",
       "    </tr>\n",
       "    <tr>\n",
       "      <th>5</th>\n",
       "      <td>densenet161_Imsampler_CEloss_Batch4_v2</td>\n",
       "      <td>0.796170</td>\n",
       "      <td>0.796170</td>\n",
       "      <td>0.959251</td>\n",
       "      <td>0.657050</td>\n",
       "      <td>0.930116</td>\n",
       "      <td>0.858066</td>\n",
       "    </tr>\n",
       "    <tr>\n",
       "      <th>6</th>\n",
       "      <td>densenet161_Imsampler_CEloss_Batch64_v1</td>\n",
       "      <td>0.808482</td>\n",
       "      <td>0.808482</td>\n",
       "      <td>0.958649</td>\n",
       "      <td>0.666979</td>\n",
       "      <td>0.927779</td>\n",
       "      <td>0.854689</td>\n",
       "    </tr>\n",
       "    <tr>\n",
       "      <th>7</th>\n",
       "      <td>densenet161_Imsampler_CEloss_Batch8_v1</td>\n",
       "      <td>0.797538</td>\n",
       "      <td>0.797538</td>\n",
       "      <td>0.957308</td>\n",
       "      <td>0.656200</td>\n",
       "      <td>0.928024</td>\n",
       "      <td>0.846363</td>\n",
       "    </tr>\n",
       "    <tr>\n",
       "      <th>8</th>\n",
       "      <td>densenet161_Imsampler_CEloss_Batch8_v2</td>\n",
       "      <td>0.800274</td>\n",
       "      <td>0.800274</td>\n",
       "      <td>0.959682</td>\n",
       "      <td>0.662425</td>\n",
       "      <td>0.934191</td>\n",
       "      <td>0.855158</td>\n",
       "    </tr>\n",
       "    <tr>\n",
       "      <th>9</th>\n",
       "      <td>densenet161_Imsampler_CEloss_Grokking_v1</td>\n",
       "      <td>0.804378</td>\n",
       "      <td>0.804378</td>\n",
       "      <td>0.957294</td>\n",
       "      <td>0.663784</td>\n",
       "      <td>0.927252</td>\n",
       "      <td>0.852293</td>\n",
       "    </tr>\n",
       "    <tr>\n",
       "      <th>10</th>\n",
       "      <td>densenet161_Imsampler_CEloss_Grokking_v2</td>\n",
       "      <td>0.793434</td>\n",
       "      <td>0.793434</td>\n",
       "      <td>0.956462</td>\n",
       "      <td>0.643519</td>\n",
       "      <td>0.926085</td>\n",
       "      <td>0.854188</td>\n",
       "    </tr>\n",
       "    <tr>\n",
       "      <th>11</th>\n",
       "      <td>densenet161_Imsampler_CEloss_Grokking_v3</td>\n",
       "      <td>0.804378</td>\n",
       "      <td>0.804378</td>\n",
       "      <td>0.957294</td>\n",
       "      <td>0.663784</td>\n",
       "      <td>0.927252</td>\n",
       "      <td>0.852293</td>\n",
       "    </tr>\n",
       "    <tr>\n",
       "      <th>12</th>\n",
       "      <td>densenet161_Imsampler_CEloss_Grokking_v4</td>\n",
       "      <td>0.800274</td>\n",
       "      <td>0.800274</td>\n",
       "      <td>0.960433</td>\n",
       "      <td>0.662129</td>\n",
       "      <td>0.932749</td>\n",
       "      <td>0.861531</td>\n",
       "    </tr>\n",
       "  </tbody>\n",
       "</table>\n",
       "</div>"
      ],
      "text/plain": [
       "                                        Name       ACC  F1 (micro)  \\\n",
       "0    densenet161_Imsampler_CEloss_Batch16_v1  0.783858    0.783858   \n",
       "1    densenet161_Imsampler_CEloss_Batch16_v2  0.800274    0.800274   \n",
       "2    densenet161_Imsampler_CEloss_Batch32_v1  0.792066    0.792066   \n",
       "3    densenet161_Imsampler_CEloss_Batch32_v2  0.792066    0.792066   \n",
       "4     densenet161_Imsampler_CEloss_Batch4_v1  0.803010    0.803010   \n",
       "5     densenet161_Imsampler_CEloss_Batch4_v2  0.796170    0.796170   \n",
       "6    densenet161_Imsampler_CEloss_Batch64_v1  0.808482    0.808482   \n",
       "7     densenet161_Imsampler_CEloss_Batch8_v1  0.797538    0.797538   \n",
       "8     densenet161_Imsampler_CEloss_Batch8_v2  0.800274    0.800274   \n",
       "9   densenet161_Imsampler_CEloss_Grokking_v1  0.804378    0.804378   \n",
       "10  densenet161_Imsampler_CEloss_Grokking_v2  0.793434    0.793434   \n",
       "11  densenet161_Imsampler_CEloss_Grokking_v3  0.804378    0.804378   \n",
       "12  densenet161_Imsampler_CEloss_Grokking_v4  0.800274    0.800274   \n",
       "\n",
       "    AUCROC (micro)  F1 (macro)  AUCROC (macro)       QWK  \n",
       "0         0.956969    0.637696        0.928864  0.845677  \n",
       "1         0.957906    0.658935        0.929788  0.841179  \n",
       "2         0.960441    0.636113        0.928674  0.831019  \n",
       "3         0.959169    0.652755        0.931520  0.851009  \n",
       "4         0.956160    0.661649        0.925599  0.857337  \n",
       "5         0.959251    0.657050        0.930116  0.858066  \n",
       "6         0.958649    0.666979        0.927779  0.854689  \n",
       "7         0.957308    0.656200        0.928024  0.846363  \n",
       "8         0.959682    0.662425        0.934191  0.855158  \n",
       "9         0.957294    0.663784        0.927252  0.852293  \n",
       "10        0.956462    0.643519        0.926085  0.854188  \n",
       "11        0.957294    0.663784        0.927252  0.852293  \n",
       "12        0.960433    0.662129        0.932749  0.861531  "
      ]
     },
     "execution_count": 29,
     "metadata": {},
     "output_type": "execute_result"
    }
   ],
   "source": [
    "### Right result\n",
    "a = result_df[['Name', 'ACC', 'F1 (micro)', 'AUCROC (micro)', 'F1 (macro)', 'AUCROC (macro)', 'QWK']]\n",
    "for name in ['densenet', 'swin']:\n",
    "    idx = a['Name'].str.contains(name)\n",
    "    print('Model name:', name)\n",
    "    print(a[idx].copy().drop(columns=['Name']).mean())\n",
    "a"
   ]
  },
  {
   "cell_type": "markdown",
   "metadata": {},
   "source": [
    "### Test WCEloss"
   ]
  },
  {
   "cell_type": "code",
   "execution_count": 11,
   "metadata": {},
   "outputs": [
    {
     "data": {
      "text/plain": [
       "{0: 'densenet161_Imsampler_WCEloss_v1',\n",
       " 1: 'densenet161_Imsampler_WCEloss_v2',\n",
       " 2: 'swin_s_Imsampler_WCEloss_v1'}"
      ]
     },
     "execution_count": 11,
     "metadata": {},
     "output_type": "execute_result"
    }
   ],
   "source": [
    "model_stocks = Call_Model(r'D:\\Aj_Aof_Work\\OCT_Disease\\Grading\\Training_results_loss_fn\\WCE_loss')\n",
    "# model_stocks = Call_Model(r'D:\\Aj_Aof_Work\\OCT_Disease\\Grading\\Training_result_vary_batch')\n",
    "\n",
    "model_stocks.model_list"
   ]
  },
  {
   "cell_type": "code",
   "execution_count": 12,
   "metadata": {},
   "outputs": [
    {
     "name": "stderr",
     "output_type": "stream",
     "text": [
      "100%|██████████| 23/23 [00:22<00:00,  1.04it/s]\n",
      "100%|██████████| 23/23 [00:21<00:00,  1.05it/s]\n",
      "100%|██████████| 23/23 [00:21<00:00,  1.05it/s]\n"
     ]
    }
   ],
   "source": [
    "result_df = model_stocks.roughly_evaluation_all_model(val_loader, device)"
   ]
  },
  {
   "cell_type": "code",
   "execution_count": 13,
   "metadata": {},
   "outputs": [
    {
     "name": "stdout",
     "output_type": "stream",
     "text": [
      "Model name: densenet\n",
      "ACC               0.766074\n",
      "F1 (micro)        0.766074\n",
      "AUCROC (micro)    0.947256\n",
      "F1 (macro)        0.620905\n",
      "AUCROC (macro)    0.917821\n",
      "QWK               0.830975\n",
      "dtype: float64\n",
      "Model name: swin\n",
      "ACC               0.790698\n",
      "F1 (micro)        0.790698\n",
      "AUCROC (micro)    0.956608\n",
      "F1 (macro)        0.629329\n",
      "AUCROC (macro)    0.925425\n",
      "QWK               0.850973\n",
      "dtype: float64\n"
     ]
    },
    {
     "data": {
      "text/html": [
       "<div>\n",
       "<style scoped>\n",
       "    .dataframe tbody tr th:only-of-type {\n",
       "        vertical-align: middle;\n",
       "    }\n",
       "\n",
       "    .dataframe tbody tr th {\n",
       "        vertical-align: top;\n",
       "    }\n",
       "\n",
       "    .dataframe thead th {\n",
       "        text-align: right;\n",
       "    }\n",
       "</style>\n",
       "<table border=\"1\" class=\"dataframe\">\n",
       "  <thead>\n",
       "    <tr style=\"text-align: right;\">\n",
       "      <th></th>\n",
       "      <th>Name</th>\n",
       "      <th>ACC</th>\n",
       "      <th>F1 (micro)</th>\n",
       "      <th>AUCROC (micro)</th>\n",
       "      <th>F1 (macro)</th>\n",
       "      <th>AUCROC (macro)</th>\n",
       "      <th>QWK</th>\n",
       "    </tr>\n",
       "  </thead>\n",
       "  <tbody>\n",
       "    <tr>\n",
       "      <th>0</th>\n",
       "      <td>densenet161_Imsampler_WCEloss_v1</td>\n",
       "      <td>0.778386</td>\n",
       "      <td>0.778386</td>\n",
       "      <td>0.950234</td>\n",
       "      <td>0.633573</td>\n",
       "      <td>0.921130</td>\n",
       "      <td>0.841602</td>\n",
       "    </tr>\n",
       "    <tr>\n",
       "      <th>1</th>\n",
       "      <td>densenet161_Imsampler_WCEloss_v2</td>\n",
       "      <td>0.753762</td>\n",
       "      <td>0.753762</td>\n",
       "      <td>0.944278</td>\n",
       "      <td>0.608237</td>\n",
       "      <td>0.914511</td>\n",
       "      <td>0.820349</td>\n",
       "    </tr>\n",
       "    <tr>\n",
       "      <th>2</th>\n",
       "      <td>swin_s_Imsampler_WCEloss_v1</td>\n",
       "      <td>0.790698</td>\n",
       "      <td>0.790698</td>\n",
       "      <td>0.956608</td>\n",
       "      <td>0.629329</td>\n",
       "      <td>0.925425</td>\n",
       "      <td>0.850973</td>\n",
       "    </tr>\n",
       "  </tbody>\n",
       "</table>\n",
       "</div>"
      ],
      "text/plain": [
       "                               Name       ACC  F1 (micro)  AUCROC (micro)  \\\n",
       "0  densenet161_Imsampler_WCEloss_v1  0.778386    0.778386        0.950234   \n",
       "1  densenet161_Imsampler_WCEloss_v2  0.753762    0.753762        0.944278   \n",
       "2       swin_s_Imsampler_WCEloss_v1  0.790698    0.790698        0.956608   \n",
       "\n",
       "   F1 (macro)  AUCROC (macro)       QWK  \n",
       "0    0.633573        0.921130  0.841602  \n",
       "1    0.608237        0.914511  0.820349  \n",
       "2    0.629329        0.925425  0.850973  "
      ]
     },
     "execution_count": 13,
     "metadata": {},
     "output_type": "execute_result"
    }
   ],
   "source": [
    "a = result_df[['Name', 'ACC', 'F1 (micro)', 'AUCROC (micro)', 'F1 (macro)', 'AUCROC (macro)', 'QWK']]\n",
    "for name in ['densenet', 'swin']:\n",
    "    idx = a['Name'].str.contains(name)\n",
    "    print('Model name:', name)\n",
    "    print(a[idx].copy().drop(columns=['Name']).mean())\n",
    "a"
   ]
  },
  {
   "cell_type": "markdown",
   "metadata": {},
   "source": [
    "### Test Focal loss"
   ]
  },
  {
   "cell_type": "code",
   "execution_count": 6,
   "metadata": {},
   "outputs": [
    {
     "data": {
      "text/plain": [
       "{0: 'densenet161_Imsampler_Floss1_v0',\n",
       " 1: 'densenet161_Imsampler_Floss2_v1',\n",
       " 2: 'densenet161_Imsampler_Floss3_v2',\n",
       " 3: 'densenet161_Imsampler_Floss4_v3',\n",
       " 4: 'densenet161_Imsampler_Floss5_v4',\n",
       " 5: 'swin_s_Imsampler_Floss1_v0',\n",
       " 6: 'swin_s_Imsampler_Floss2_v1',\n",
       " 7: 'swin_s_Imsampler_Floss3_v2'}"
      ]
     },
     "execution_count": 6,
     "metadata": {},
     "output_type": "execute_result"
    }
   ],
   "source": [
    "model_stocks = Call_Model(r'D:\\Aj_Aof_Work\\OCT_Disease\\Grading\\Training_results_loss_fn\\Focal_loss')\n",
    "# model_stocks = Call_Model(r'D:\\Aj_Aof_Work\\OCT_Disease\\Grading\\Training_result_vary_batch')\n",
    "\n",
    "model_stocks.model_list"
   ]
  },
  {
   "cell_type": "code",
   "execution_count": 7,
   "metadata": {},
   "outputs": [
    {
     "name": "stderr",
     "output_type": "stream",
     "text": [
      "100%|██████████| 23/23 [00:21<00:00,  1.08it/s]\n",
      "100%|██████████| 23/23 [00:20<00:00,  1.11it/s]\n",
      "100%|██████████| 23/23 [00:20<00:00,  1.12it/s]\n",
      "100%|██████████| 23/23 [00:20<00:00,  1.13it/s]\n",
      "100%|██████████| 23/23 [00:20<00:00,  1.13it/s]\n",
      "100%|██████████| 23/23 [00:20<00:00,  1.11it/s]\n",
      "100%|██████████| 23/23 [00:20<00:00,  1.11it/s]\n",
      "100%|██████████| 23/23 [00:20<00:00,  1.12it/s]\n"
     ]
    }
   ],
   "source": [
    "result_df = model_stocks.roughly_evaluation_all_model(val_loader, device)"
   ]
  },
  {
   "cell_type": "code",
   "execution_count": 8,
   "metadata": {},
   "outputs": [
    {
     "name": "stdout",
     "output_type": "stream",
     "text": [
      "Model name: densenet\n",
      "ACC               0.793434\n",
      "F1 (micro)        0.793434\n",
      "AUCROC (micro)    0.957200\n",
      "F1 (macro)        0.644956\n",
      "AUCROC (macro)    0.924579\n",
      "QWK               0.854020\n",
      "dtype: float64\n",
      "Model name: swin\n",
      "ACC               0.797082\n",
      "F1 (micro)        0.797082\n",
      "AUCROC (micro)    0.958568\n",
      "F1 (macro)        0.626591\n",
      "AUCROC (macro)    0.927831\n",
      "QWK               0.848069\n",
      "dtype: float64\n"
     ]
    },
    {
     "data": {
      "text/html": [
       "<div>\n",
       "<style scoped>\n",
       "    .dataframe tbody tr th:only-of-type {\n",
       "        vertical-align: middle;\n",
       "    }\n",
       "\n",
       "    .dataframe tbody tr th {\n",
       "        vertical-align: top;\n",
       "    }\n",
       "\n",
       "    .dataframe thead th {\n",
       "        text-align: right;\n",
       "    }\n",
       "</style>\n",
       "<table border=\"1\" class=\"dataframe\">\n",
       "  <thead>\n",
       "    <tr style=\"text-align: right;\">\n",
       "      <th></th>\n",
       "      <th>Name</th>\n",
       "      <th>ACC</th>\n",
       "      <th>F1 (micro)</th>\n",
       "      <th>AUCROC (micro)</th>\n",
       "      <th>F1 (macro)</th>\n",
       "      <th>AUCROC (macro)</th>\n",
       "      <th>QWK</th>\n",
       "    </tr>\n",
       "  </thead>\n",
       "  <tbody>\n",
       "    <tr>\n",
       "      <th>0</th>\n",
       "      <td>densenet161_Imsampler_Floss1_v0</td>\n",
       "      <td>0.796170</td>\n",
       "      <td>0.796170</td>\n",
       "      <td>0.956376</td>\n",
       "      <td>0.638623</td>\n",
       "      <td>0.923792</td>\n",
       "      <td>0.856852</td>\n",
       "    </tr>\n",
       "    <tr>\n",
       "      <th>1</th>\n",
       "      <td>densenet161_Imsampler_Floss2_v1</td>\n",
       "      <td>0.794802</td>\n",
       "      <td>0.794802</td>\n",
       "      <td>0.956364</td>\n",
       "      <td>0.655786</td>\n",
       "      <td>0.925456</td>\n",
       "      <td>0.851046</td>\n",
       "    </tr>\n",
       "    <tr>\n",
       "      <th>2</th>\n",
       "      <td>densenet161_Imsampler_Floss3_v2</td>\n",
       "      <td>0.792066</td>\n",
       "      <td>0.792066</td>\n",
       "      <td>0.958201</td>\n",
       "      <td>0.634685</td>\n",
       "      <td>0.926351</td>\n",
       "      <td>0.855879</td>\n",
       "    </tr>\n",
       "    <tr>\n",
       "      <th>3</th>\n",
       "      <td>densenet161_Imsampler_Floss4_v3</td>\n",
       "      <td>0.794802</td>\n",
       "      <td>0.794802</td>\n",
       "      <td>0.958159</td>\n",
       "      <td>0.654133</td>\n",
       "      <td>0.924386</td>\n",
       "      <td>0.859142</td>\n",
       "    </tr>\n",
       "    <tr>\n",
       "      <th>4</th>\n",
       "      <td>densenet161_Imsampler_Floss5_v4</td>\n",
       "      <td>0.789330</td>\n",
       "      <td>0.789330</td>\n",
       "      <td>0.956897</td>\n",
       "      <td>0.641554</td>\n",
       "      <td>0.922911</td>\n",
       "      <td>0.847180</td>\n",
       "    </tr>\n",
       "    <tr>\n",
       "      <th>5</th>\n",
       "      <td>swin_s_Imsampler_Floss1_v0</td>\n",
       "      <td>0.803010</td>\n",
       "      <td>0.803010</td>\n",
       "      <td>0.959873</td>\n",
       "      <td>0.642680</td>\n",
       "      <td>0.929711</td>\n",
       "      <td>0.858142</td>\n",
       "    </tr>\n",
       "    <tr>\n",
       "      <th>6</th>\n",
       "      <td>swin_s_Imsampler_Floss2_v1</td>\n",
       "      <td>0.808482</td>\n",
       "      <td>0.808482</td>\n",
       "      <td>0.960968</td>\n",
       "      <td>0.637075</td>\n",
       "      <td>0.929945</td>\n",
       "      <td>0.845731</td>\n",
       "    </tr>\n",
       "    <tr>\n",
       "      <th>7</th>\n",
       "      <td>swin_s_Imsampler_Floss3_v2</td>\n",
       "      <td>0.779754</td>\n",
       "      <td>0.779754</td>\n",
       "      <td>0.954864</td>\n",
       "      <td>0.600017</td>\n",
       "      <td>0.923836</td>\n",
       "      <td>0.840335</td>\n",
       "    </tr>\n",
       "  </tbody>\n",
       "</table>\n",
       "</div>"
      ],
      "text/plain": [
       "                              Name       ACC  F1 (micro)  AUCROC (micro)  \\\n",
       "0  densenet161_Imsampler_Floss1_v0  0.796170    0.796170        0.956376   \n",
       "1  densenet161_Imsampler_Floss2_v1  0.794802    0.794802        0.956364   \n",
       "2  densenet161_Imsampler_Floss3_v2  0.792066    0.792066        0.958201   \n",
       "3  densenet161_Imsampler_Floss4_v3  0.794802    0.794802        0.958159   \n",
       "4  densenet161_Imsampler_Floss5_v4  0.789330    0.789330        0.956897   \n",
       "5       swin_s_Imsampler_Floss1_v0  0.803010    0.803010        0.959873   \n",
       "6       swin_s_Imsampler_Floss2_v1  0.808482    0.808482        0.960968   \n",
       "7       swin_s_Imsampler_Floss3_v2  0.779754    0.779754        0.954864   \n",
       "\n",
       "   F1 (macro)  AUCROC (macro)       QWK  \n",
       "0    0.638623        0.923792  0.856852  \n",
       "1    0.655786        0.925456  0.851046  \n",
       "2    0.634685        0.926351  0.855879  \n",
       "3    0.654133        0.924386  0.859142  \n",
       "4    0.641554        0.922911  0.847180  \n",
       "5    0.642680        0.929711  0.858142  \n",
       "6    0.637075        0.929945  0.845731  \n",
       "7    0.600017        0.923836  0.840335  "
      ]
     },
     "execution_count": 8,
     "metadata": {},
     "output_type": "execute_result"
    }
   ],
   "source": [
    "### Right result\n",
    "a = result_df[['Name', 'ACC', 'F1 (micro)', 'AUCROC (micro)', 'F1 (macro)', 'AUCROC (macro)', 'QWK']]\n",
    "for name in ['densenet', 'swin']:\n",
    "    idx = a['Name'].str.contains(name)\n",
    "    print('Model name:', name)\n",
    "    print(a[idx].copy().drop(columns=['Name']).mean())\n",
    "a"
   ]
  },
  {
   "cell_type": "markdown",
   "metadata": {},
   "source": [
    "### Test activation function"
   ]
  },
  {
   "cell_type": "code",
   "execution_count": 8,
   "metadata": {},
   "outputs": [
    {
     "data": {
      "text/plain": [
       "{0: 'densenet161_BalanceData_Imsampler_CEloss_GELU_v1',\n",
       " 1: 'densenet161_BalanceData_Imsampler_CEloss_GELU_v1_combiantion',\n",
       " 2: 'densenet161_BalanceData_Imsampler_CEloss_GELU_v2',\n",
       " 3: 'densenet161_BalanceData_Imsampler_CEloss_GELU_v3',\n",
       " 4: 'densenet161_BalanceData_Imsampler_CEloss_SELU_v1',\n",
       " 5: 'densenet161_BalanceData_Imsampler_CEloss_SELU_v1_combiantion',\n",
       " 6: 'densenet161_BalanceData_Imsampler_CEloss_SELU_v2',\n",
       " 7: 'densenet161_BalanceData_Imsampler_CEloss_SELU_v3',\n",
       " 8: 'densenet161_BalanceData_Imsampler_CEloss_v1_baseline',\n",
       " 9: 'densenet161_BalanceData_Imsampler_CEloss_v1_larger',\n",
       " 10: 'densenet161_BalanceData_Imsampler_CEloss_v2_baseline',\n",
       " 11: 'densenet161_BalanceData_Imsampler_CEloss_v2_larger',\n",
       " 12: 'densenet161_BalanceData_Imsampler_CEloss_v3_baseline',\n",
       " 13: 'densenet161_BalanceData_Imsampler_CEloss_v3_larger'}"
      ]
     },
     "execution_count": 8,
     "metadata": {},
     "output_type": "execute_result"
    }
   ],
   "source": [
    "model_stocks = Call_Model(r'D:\\Aj_Aof_Work\\OCT_Disease\\Grading\\Training_results_Balance_data_DenseNet')\n",
    "# model_stocks = Call_Model(r'D:\\Aj_Aof_Work\\OCT_Disease\\Grading\\Training_result_vary_batch')\n",
    "\n",
    "model_stocks.model_list"
   ]
  },
  {
   "cell_type": "code",
   "execution_count": 9,
   "metadata": {},
   "outputs": [
    {
     "name": "stderr",
     "output_type": "stream",
     "text": [
      "100%|██████████| 23/23 [00:20<00:00,  1.10it/s]\n",
      "100%|██████████| 23/23 [00:20<00:00,  1.11it/s]\n",
      "100%|██████████| 23/23 [00:20<00:00,  1.10it/s]\n",
      "100%|██████████| 23/23 [00:20<00:00,  1.10it/s]\n",
      "100%|██████████| 23/23 [00:35<00:00,  1.52s/it]\n",
      "100%|██████████| 23/23 [00:35<00:00,  1.53s/it]\n",
      "100%|██████████| 23/23 [00:34<00:00,  1.50s/it]\n",
      "100%|██████████| 23/23 [00:34<00:00,  1.48s/it]\n",
      "100%|██████████| 23/23 [00:34<00:00,  1.48s/it]\n",
      "100%|██████████| 23/23 [00:22<00:00,  1.03it/s]\n",
      "100%|██████████| 23/23 [00:20<00:00,  1.11it/s]\n",
      "100%|██████████| 23/23 [00:20<00:00,  1.10it/s]\n",
      "100%|██████████| 23/23 [00:21<00:00,  1.08it/s]\n",
      "100%|██████████| 23/23 [00:35<00:00,  1.56s/it]\n"
     ]
    }
   ],
   "source": [
    "result_df = model_stocks.roughly_evaluation_all_model(val_loader, device)"
   ]
  },
  {
   "cell_type": "code",
   "execution_count": 10,
   "metadata": {},
   "outputs": [
    {
     "name": "stdout",
     "output_type": "stream",
     "text": [
      "Model name: GELU_v\n",
      "ACC               0.783174\n",
      "F1 (micro)        0.783174\n",
      "AUCROC (micro)    0.951728\n",
      "F1 (macro)        0.667471\n",
      "AUCROC (macro)    0.943242\n",
      "QWK               0.847259\n",
      "dtype: float64\n",
      "Model name: SELU_v\n",
      "ACC               0.792408\n",
      "F1 (micro)        0.792408\n",
      "AUCROC (micro)    0.954482\n",
      "F1 (macro)        0.685286\n",
      "AUCROC (macro)    0.944762\n",
      "QWK               0.848161\n",
      "dtype: float64\n",
      "Model name: large\n",
      "ACC               0.792522\n",
      "F1 (micro)        0.792522\n",
      "AUCROC (micro)    0.956081\n",
      "F1 (macro)        0.682890\n",
      "AUCROC (macro)    0.944603\n",
      "QWK               0.860770\n",
      "dtype: float64\n",
      "Model name: baseline\n",
      "ACC               0.810306\n",
      "F1 (micro)        0.810306\n",
      "AUCROC (micro)    0.962076\n",
      "F1 (macro)        0.712779\n",
      "AUCROC (macro)    0.953346\n",
      "QWK               0.871099\n",
      "dtype: float64\n"
     ]
    },
    {
     "data": {
      "text/html": [
       "<div>\n",
       "<style scoped>\n",
       "    .dataframe tbody tr th:only-of-type {\n",
       "        vertical-align: middle;\n",
       "    }\n",
       "\n",
       "    .dataframe tbody tr th {\n",
       "        vertical-align: top;\n",
       "    }\n",
       "\n",
       "    .dataframe thead th {\n",
       "        text-align: right;\n",
       "    }\n",
       "</style>\n",
       "<table border=\"1\" class=\"dataframe\">\n",
       "  <thead>\n",
       "    <tr style=\"text-align: right;\">\n",
       "      <th></th>\n",
       "      <th>Name</th>\n",
       "      <th>ACC</th>\n",
       "      <th>F1 (micro)</th>\n",
       "      <th>AUCROC (micro)</th>\n",
       "      <th>F1 (macro)</th>\n",
       "      <th>AUCROC (macro)</th>\n",
       "      <th>QWK</th>\n",
       "    </tr>\n",
       "  </thead>\n",
       "  <tbody>\n",
       "    <tr>\n",
       "      <th>0</th>\n",
       "      <td>densenet161_BalanceData_Imsampler_CEloss_GELU_v1</td>\n",
       "      <td>0.805746</td>\n",
       "      <td>0.805746</td>\n",
       "      <td>0.954003</td>\n",
       "      <td>0.702838</td>\n",
       "      <td>0.945026</td>\n",
       "      <td>0.859050</td>\n",
       "    </tr>\n",
       "    <tr>\n",
       "      <th>1</th>\n",
       "      <td>densenet161_BalanceData_Imsampler_CEloss_GELU_...</td>\n",
       "      <td>0.770178</td>\n",
       "      <td>0.770178</td>\n",
       "      <td>0.947915</td>\n",
       "      <td>0.646775</td>\n",
       "      <td>0.939925</td>\n",
       "      <td>0.840984</td>\n",
       "    </tr>\n",
       "    <tr>\n",
       "      <th>2</th>\n",
       "      <td>densenet161_BalanceData_Imsampler_CEloss_GELU_v2</td>\n",
       "      <td>0.770178</td>\n",
       "      <td>0.770178</td>\n",
       "      <td>0.947915</td>\n",
       "      <td>0.646775</td>\n",
       "      <td>0.939925</td>\n",
       "      <td>0.840984</td>\n",
       "    </tr>\n",
       "    <tr>\n",
       "      <th>3</th>\n",
       "      <td>densenet161_BalanceData_Imsampler_CEloss_GELU_v3</td>\n",
       "      <td>0.786594</td>\n",
       "      <td>0.786594</td>\n",
       "      <td>0.957079</td>\n",
       "      <td>0.673496</td>\n",
       "      <td>0.948092</td>\n",
       "      <td>0.848018</td>\n",
       "    </tr>\n",
       "    <tr>\n",
       "      <th>4</th>\n",
       "      <td>densenet161_BalanceData_Imsampler_CEloss_SELU_v1</td>\n",
       "      <td>0.763338</td>\n",
       "      <td>0.763338</td>\n",
       "      <td>0.944418</td>\n",
       "      <td>0.623507</td>\n",
       "      <td>0.929641</td>\n",
       "      <td>0.806426</td>\n",
       "    </tr>\n",
       "    <tr>\n",
       "      <th>5</th>\n",
       "      <td>densenet161_BalanceData_Imsampler_CEloss_SELU_...</td>\n",
       "      <td>0.785226</td>\n",
       "      <td>0.785226</td>\n",
       "      <td>0.956091</td>\n",
       "      <td>0.690840</td>\n",
       "      <td>0.949829</td>\n",
       "      <td>0.850056</td>\n",
       "    </tr>\n",
       "    <tr>\n",
       "      <th>6</th>\n",
       "      <td>densenet161_BalanceData_Imsampler_CEloss_SELU_v2</td>\n",
       "      <td>0.815321</td>\n",
       "      <td>0.815321</td>\n",
       "      <td>0.959857</td>\n",
       "      <td>0.723891</td>\n",
       "      <td>0.951231</td>\n",
       "      <td>0.871613</td>\n",
       "    </tr>\n",
       "    <tr>\n",
       "      <th>7</th>\n",
       "      <td>densenet161_BalanceData_Imsampler_CEloss_SELU_v3</td>\n",
       "      <td>0.805746</td>\n",
       "      <td>0.805746</td>\n",
       "      <td>0.957564</td>\n",
       "      <td>0.702904</td>\n",
       "      <td>0.948348</td>\n",
       "      <td>0.864550</td>\n",
       "    </tr>\n",
       "    <tr>\n",
       "      <th>8</th>\n",
       "      <td>densenet161_BalanceData_Imsampler_CEloss_v1_ba...</td>\n",
       "      <td>0.804378</td>\n",
       "      <td>0.804378</td>\n",
       "      <td>0.961285</td>\n",
       "      <td>0.704849</td>\n",
       "      <td>0.952684</td>\n",
       "      <td>0.867716</td>\n",
       "    </tr>\n",
       "    <tr>\n",
       "      <th>9</th>\n",
       "      <td>densenet161_BalanceData_Imsampler_CEloss_v1_la...</td>\n",
       "      <td>0.785226</td>\n",
       "      <td>0.785226</td>\n",
       "      <td>0.952599</td>\n",
       "      <td>0.673819</td>\n",
       "      <td>0.939600</td>\n",
       "      <td>0.854265</td>\n",
       "    </tr>\n",
       "    <tr>\n",
       "      <th>10</th>\n",
       "      <td>densenet161_BalanceData_Imsampler_CEloss_v2_ba...</td>\n",
       "      <td>0.804378</td>\n",
       "      <td>0.804378</td>\n",
       "      <td>0.961285</td>\n",
       "      <td>0.704849</td>\n",
       "      <td>0.952684</td>\n",
       "      <td>0.867716</td>\n",
       "    </tr>\n",
       "    <tr>\n",
       "      <th>11</th>\n",
       "      <td>densenet161_BalanceData_Imsampler_CEloss_v2_la...</td>\n",
       "      <td>0.771546</td>\n",
       "      <td>0.771546</td>\n",
       "      <td>0.953078</td>\n",
       "      <td>0.658433</td>\n",
       "      <td>0.944449</td>\n",
       "      <td>0.842338</td>\n",
       "    </tr>\n",
       "    <tr>\n",
       "      <th>12</th>\n",
       "      <td>densenet161_BalanceData_Imsampler_CEloss_v3_ba...</td>\n",
       "      <td>0.822161</td>\n",
       "      <td>0.822161</td>\n",
       "      <td>0.963659</td>\n",
       "      <td>0.728640</td>\n",
       "      <td>0.954669</td>\n",
       "      <td>0.877864</td>\n",
       "    </tr>\n",
       "    <tr>\n",
       "      <th>13</th>\n",
       "      <td>densenet161_BalanceData_Imsampler_CEloss_v3_la...</td>\n",
       "      <td>0.820793</td>\n",
       "      <td>0.820793</td>\n",
       "      <td>0.962565</td>\n",
       "      <td>0.716419</td>\n",
       "      <td>0.949759</td>\n",
       "      <td>0.885708</td>\n",
       "    </tr>\n",
       "  </tbody>\n",
       "</table>\n",
       "</div>"
      ],
      "text/plain": [
       "                                                 Name       ACC  F1 (micro)  \\\n",
       "0    densenet161_BalanceData_Imsampler_CEloss_GELU_v1  0.805746    0.805746   \n",
       "1   densenet161_BalanceData_Imsampler_CEloss_GELU_...  0.770178    0.770178   \n",
       "2    densenet161_BalanceData_Imsampler_CEloss_GELU_v2  0.770178    0.770178   \n",
       "3    densenet161_BalanceData_Imsampler_CEloss_GELU_v3  0.786594    0.786594   \n",
       "4    densenet161_BalanceData_Imsampler_CEloss_SELU_v1  0.763338    0.763338   \n",
       "5   densenet161_BalanceData_Imsampler_CEloss_SELU_...  0.785226    0.785226   \n",
       "6    densenet161_BalanceData_Imsampler_CEloss_SELU_v2  0.815321    0.815321   \n",
       "7    densenet161_BalanceData_Imsampler_CEloss_SELU_v3  0.805746    0.805746   \n",
       "8   densenet161_BalanceData_Imsampler_CEloss_v1_ba...  0.804378    0.804378   \n",
       "9   densenet161_BalanceData_Imsampler_CEloss_v1_la...  0.785226    0.785226   \n",
       "10  densenet161_BalanceData_Imsampler_CEloss_v2_ba...  0.804378    0.804378   \n",
       "11  densenet161_BalanceData_Imsampler_CEloss_v2_la...  0.771546    0.771546   \n",
       "12  densenet161_BalanceData_Imsampler_CEloss_v3_ba...  0.822161    0.822161   \n",
       "13  densenet161_BalanceData_Imsampler_CEloss_v3_la...  0.820793    0.820793   \n",
       "\n",
       "    AUCROC (micro)  F1 (macro)  AUCROC (macro)       QWK  \n",
       "0         0.954003    0.702838        0.945026  0.859050  \n",
       "1         0.947915    0.646775        0.939925  0.840984  \n",
       "2         0.947915    0.646775        0.939925  0.840984  \n",
       "3         0.957079    0.673496        0.948092  0.848018  \n",
       "4         0.944418    0.623507        0.929641  0.806426  \n",
       "5         0.956091    0.690840        0.949829  0.850056  \n",
       "6         0.959857    0.723891        0.951231  0.871613  \n",
       "7         0.957564    0.702904        0.948348  0.864550  \n",
       "8         0.961285    0.704849        0.952684  0.867716  \n",
       "9         0.952599    0.673819        0.939600  0.854265  \n",
       "10        0.961285    0.704849        0.952684  0.867716  \n",
       "11        0.953078    0.658433        0.944449  0.842338  \n",
       "12        0.963659    0.728640        0.954669  0.877864  \n",
       "13        0.962565    0.716419        0.949759  0.885708  "
      ]
     },
     "execution_count": 10,
     "metadata": {},
     "output_type": "execute_result"
    }
   ],
   "source": [
    "a = result_df[['Name', 'ACC', 'F1 (micro)', 'AUCROC (micro)', 'F1 (macro)', 'AUCROC (macro)', 'QWK']]\n",
    "for name in ['GELU_v', 'SELU_v', 'large', 'baseline']:\n",
    "    idx = a['Name'].str.contains(name)\n",
    "    print('Model name:', name)\n",
    "    print(a[idx].copy().drop(columns=['Name']).mean())\n",
    "a"
   ]
  },
  {
   "cell_type": "markdown",
   "metadata": {},
   "source": [
    "### Test batch size"
   ]
  },
  {
   "cell_type": "code",
   "execution_count": 5,
   "metadata": {},
   "outputs": [
    {
     "data": {
      "text/plain": [
       "{0: 'densenet161_Imsampler_CEloss_Batch128_v1',\n",
       " 1: 'densenet161_Imsampler_CEloss_Batch128_v2',\n",
       " 2: 'densenet161_Imsampler_CEloss_Batch16_v1',\n",
       " 3: 'densenet161_Imsampler_CEloss_Batch16_v2',\n",
       " 4: 'densenet161_Imsampler_CEloss_Batch32_v1',\n",
       " 5: 'densenet161_Imsampler_CEloss_Batch32_v2',\n",
       " 6: 'densenet161_Imsampler_CEloss_Batch4_v1',\n",
       " 7: 'densenet161_Imsampler_CEloss_Batch4_v2',\n",
       " 8: 'densenet161_Imsampler_CEloss_Batch64_v1',\n",
       " 9: 'densenet161_Imsampler_CEloss_Batch64_v2',\n",
       " 10: 'densenet161_Imsampler_CEloss_Batch8_v1',\n",
       " 11: 'densenet161_Imsampler_CEloss_Batch8_v2'}"
      ]
     },
     "execution_count": 5,
     "metadata": {},
     "output_type": "execute_result"
    }
   ],
   "source": [
    "model_stocks = Call_Model(r'D:\\Aj_Aof_Work\\OCT_Disease\\Grading\\Training_result_vary_batch_V2')\n",
    "# model_stocks = Call_Model(r'D:\\Aj_Aof_Work\\OCT_Disease\\Grading\\Training_result_vary_batch')\n",
    "\n",
    "model_stocks.model_list"
   ]
  },
  {
   "cell_type": "code",
   "execution_count": 6,
   "metadata": {},
   "outputs": [
    {
     "name": "stderr",
     "output_type": "stream",
     "text": [
      "100%|██████████| 23/23 [00:21<00:00,  1.09it/s]\n",
      "100%|██████████| 23/23 [00:20<00:00,  1.10it/s]\n",
      "100%|██████████| 23/23 [00:20<00:00,  1.10it/s]\n",
      "100%|██████████| 23/23 [00:20<00:00,  1.11it/s]\n",
      "100%|██████████| 23/23 [00:21<00:00,  1.09it/s]\n",
      "100%|██████████| 23/23 [00:20<00:00,  1.10it/s]\n",
      "100%|██████████| 23/23 [00:21<00:00,  1.07it/s]\n",
      "100%|██████████| 23/23 [00:21<00:00,  1.08it/s]\n",
      "100%|██████████| 23/23 [00:21<00:00,  1.08it/s]\n",
      "100%|██████████| 23/23 [00:21<00:00,  1.07it/s]\n",
      "100%|██████████| 23/23 [00:21<00:00,  1.09it/s]\n",
      "100%|██████████| 23/23 [00:20<00:00,  1.11it/s]\n"
     ]
    }
   ],
   "source": [
    "result_df = model_stocks.roughly_evaluation_all_model(val_loader, device)"
   ]
  },
  {
   "cell_type": "code",
   "execution_count": 7,
   "metadata": {},
   "outputs": [
    {
     "name": "stdout",
     "output_type": "stream",
     "text": [
      "Model name: Batch4\n",
      "ACC               0.787278\n",
      "F1 (micro)        0.787278\n",
      "AUCROC (micro)    0.955018\n",
      "F1 (macro)        0.637376\n",
      "AUCROC (macro)    0.924932\n",
      "QWK               0.834939\n",
      "dtype: float64\n",
      "Model name: Batch8\n",
      "ACC               0.793434\n",
      "F1 (micro)        0.793434\n",
      "AUCROC (micro)    0.956683\n",
      "F1 (macro)        0.651333\n",
      "AUCROC (macro)    0.928299\n",
      "QWK               0.847142\n",
      "dtype: float64\n",
      "Model name: Batch16\n",
      "ACC               0.792066\n",
      "F1 (micro)        0.792066\n",
      "AUCROC (micro)    0.958204\n",
      "F1 (macro)        0.647373\n",
      "AUCROC (macro)    0.929233\n",
      "QWK               0.846898\n",
      "dtype: float64\n",
      "Model name: Batch32\n",
      "ACC               0.803694\n",
      "F1 (micro)        0.803694\n",
      "AUCROC (micro)    0.960164\n",
      "F1 (macro)        0.660662\n",
      "AUCROC (macro)    0.930027\n",
      "QWK               0.853654\n",
      "dtype: float64\n",
      "Model name: Batch64\n",
      "ACC               0.800274\n",
      "F1 (micro)        0.800274\n",
      "AUCROC (micro)    0.958510\n",
      "F1 (macro)        0.654839\n",
      "AUCROC (macro)    0.929116\n",
      "QWK               0.844252\n",
      "dtype: float64\n",
      "Model name: Batch128\n",
      "ACC               0.798906\n",
      "F1 (micro)        0.798906\n",
      "AUCROC (micro)    0.959064\n",
      "F1 (macro)        0.658902\n",
      "AUCROC (macro)    0.930762\n",
      "QWK               0.848140\n",
      "dtype: float64\n"
     ]
    },
    {
     "data": {
      "text/html": [
       "<div>\n",
       "<style scoped>\n",
       "    .dataframe tbody tr th:only-of-type {\n",
       "        vertical-align: middle;\n",
       "    }\n",
       "\n",
       "    .dataframe tbody tr th {\n",
       "        vertical-align: top;\n",
       "    }\n",
       "\n",
       "    .dataframe thead th {\n",
       "        text-align: right;\n",
       "    }\n",
       "</style>\n",
       "<table border=\"1\" class=\"dataframe\">\n",
       "  <thead>\n",
       "    <tr style=\"text-align: right;\">\n",
       "      <th></th>\n",
       "      <th>Name</th>\n",
       "      <th>ACC</th>\n",
       "      <th>F1 (micro)</th>\n",
       "      <th>AUCROC (micro)</th>\n",
       "      <th>F1 (macro)</th>\n",
       "      <th>AUCROC (macro)</th>\n",
       "      <th>QWK</th>\n",
       "    </tr>\n",
       "  </thead>\n",
       "  <tbody>\n",
       "    <tr>\n",
       "      <th>0</th>\n",
       "      <td>densenet161_Imsampler_CEloss_Batch128_v1</td>\n",
       "      <td>0.798906</td>\n",
       "      <td>0.798906</td>\n",
       "      <td>0.959787</td>\n",
       "      <td>0.662530</td>\n",
       "      <td>0.931674</td>\n",
       "      <td>0.848431</td>\n",
       "    </tr>\n",
       "    <tr>\n",
       "      <th>1</th>\n",
       "      <td>densenet161_Imsampler_CEloss_Batch128_v2</td>\n",
       "      <td>0.798906</td>\n",
       "      <td>0.798906</td>\n",
       "      <td>0.958341</td>\n",
       "      <td>0.655274</td>\n",
       "      <td>0.929851</td>\n",
       "      <td>0.847849</td>\n",
       "    </tr>\n",
       "    <tr>\n",
       "      <th>2</th>\n",
       "      <td>densenet161_Imsampler_CEloss_Batch16_v1</td>\n",
       "      <td>0.786594</td>\n",
       "      <td>0.786594</td>\n",
       "      <td>0.958936</td>\n",
       "      <td>0.638244</td>\n",
       "      <td>0.929321</td>\n",
       "      <td>0.852785</td>\n",
       "    </tr>\n",
       "    <tr>\n",
       "      <th>3</th>\n",
       "      <td>densenet161_Imsampler_CEloss_Batch16_v2</td>\n",
       "      <td>0.797538</td>\n",
       "      <td>0.797538</td>\n",
       "      <td>0.957472</td>\n",
       "      <td>0.656502</td>\n",
       "      <td>0.929145</td>\n",
       "      <td>0.841012</td>\n",
       "    </tr>\n",
       "    <tr>\n",
       "      <th>4</th>\n",
       "      <td>densenet161_Imsampler_CEloss_Batch32_v1</td>\n",
       "      <td>0.812585</td>\n",
       "      <td>0.812585</td>\n",
       "      <td>0.960762</td>\n",
       "      <td>0.662897</td>\n",
       "      <td>0.927976</td>\n",
       "      <td>0.859805</td>\n",
       "    </tr>\n",
       "    <tr>\n",
       "      <th>5</th>\n",
       "      <td>densenet161_Imsampler_CEloss_Batch32_v2</td>\n",
       "      <td>0.794802</td>\n",
       "      <td>0.794802</td>\n",
       "      <td>0.959566</td>\n",
       "      <td>0.658427</td>\n",
       "      <td>0.932078</td>\n",
       "      <td>0.847503</td>\n",
       "    </tr>\n",
       "    <tr>\n",
       "      <th>6</th>\n",
       "      <td>densenet161_Imsampler_CEloss_Batch4_v1</td>\n",
       "      <td>0.786594</td>\n",
       "      <td>0.786594</td>\n",
       "      <td>0.953242</td>\n",
       "      <td>0.638720</td>\n",
       "      <td>0.923095</td>\n",
       "      <td>0.832795</td>\n",
       "    </tr>\n",
       "    <tr>\n",
       "      <th>7</th>\n",
       "      <td>densenet161_Imsampler_CEloss_Batch4_v2</td>\n",
       "      <td>0.787962</td>\n",
       "      <td>0.787962</td>\n",
       "      <td>0.956795</td>\n",
       "      <td>0.636032</td>\n",
       "      <td>0.926769</td>\n",
       "      <td>0.837084</td>\n",
       "    </tr>\n",
       "    <tr>\n",
       "      <th>8</th>\n",
       "      <td>densenet161_Imsampler_CEloss_Batch64_v1</td>\n",
       "      <td>0.801642</td>\n",
       "      <td>0.801642</td>\n",
       "      <td>0.958198</td>\n",
       "      <td>0.661773</td>\n",
       "      <td>0.929598</td>\n",
       "      <td>0.851814</td>\n",
       "    </tr>\n",
       "    <tr>\n",
       "      <th>9</th>\n",
       "      <td>densenet161_Imsampler_CEloss_Batch64_v2</td>\n",
       "      <td>0.798906</td>\n",
       "      <td>0.798906</td>\n",
       "      <td>0.958821</td>\n",
       "      <td>0.647905</td>\n",
       "      <td>0.928634</td>\n",
       "      <td>0.836689</td>\n",
       "    </tr>\n",
       "    <tr>\n",
       "      <th>10</th>\n",
       "      <td>densenet161_Imsampler_CEloss_Batch8_v1</td>\n",
       "      <td>0.785226</td>\n",
       "      <td>0.785226</td>\n",
       "      <td>0.955611</td>\n",
       "      <td>0.644004</td>\n",
       "      <td>0.925871</td>\n",
       "      <td>0.847459</td>\n",
       "    </tr>\n",
       "    <tr>\n",
       "      <th>11</th>\n",
       "      <td>densenet161_Imsampler_CEloss_Batch8_v2</td>\n",
       "      <td>0.801642</td>\n",
       "      <td>0.801642</td>\n",
       "      <td>0.957755</td>\n",
       "      <td>0.658662</td>\n",
       "      <td>0.930728</td>\n",
       "      <td>0.846825</td>\n",
       "    </tr>\n",
       "  </tbody>\n",
       "</table>\n",
       "</div>"
      ],
      "text/plain": [
       "                                        Name       ACC  F1 (micro)  \\\n",
       "0   densenet161_Imsampler_CEloss_Batch128_v1  0.798906    0.798906   \n",
       "1   densenet161_Imsampler_CEloss_Batch128_v2  0.798906    0.798906   \n",
       "2    densenet161_Imsampler_CEloss_Batch16_v1  0.786594    0.786594   \n",
       "3    densenet161_Imsampler_CEloss_Batch16_v2  0.797538    0.797538   \n",
       "4    densenet161_Imsampler_CEloss_Batch32_v1  0.812585    0.812585   \n",
       "5    densenet161_Imsampler_CEloss_Batch32_v2  0.794802    0.794802   \n",
       "6     densenet161_Imsampler_CEloss_Batch4_v1  0.786594    0.786594   \n",
       "7     densenet161_Imsampler_CEloss_Batch4_v2  0.787962    0.787962   \n",
       "8    densenet161_Imsampler_CEloss_Batch64_v1  0.801642    0.801642   \n",
       "9    densenet161_Imsampler_CEloss_Batch64_v2  0.798906    0.798906   \n",
       "10    densenet161_Imsampler_CEloss_Batch8_v1  0.785226    0.785226   \n",
       "11    densenet161_Imsampler_CEloss_Batch8_v2  0.801642    0.801642   \n",
       "\n",
       "    AUCROC (micro)  F1 (macro)  AUCROC (macro)       QWK  \n",
       "0         0.959787    0.662530        0.931674  0.848431  \n",
       "1         0.958341    0.655274        0.929851  0.847849  \n",
       "2         0.958936    0.638244        0.929321  0.852785  \n",
       "3         0.957472    0.656502        0.929145  0.841012  \n",
       "4         0.960762    0.662897        0.927976  0.859805  \n",
       "5         0.959566    0.658427        0.932078  0.847503  \n",
       "6         0.953242    0.638720        0.923095  0.832795  \n",
       "7         0.956795    0.636032        0.926769  0.837084  \n",
       "8         0.958198    0.661773        0.929598  0.851814  \n",
       "9         0.958821    0.647905        0.928634  0.836689  \n",
       "10        0.955611    0.644004        0.925871  0.847459  \n",
       "11        0.957755    0.658662        0.930728  0.846825  "
      ]
     },
     "execution_count": 7,
     "metadata": {},
     "output_type": "execute_result"
    }
   ],
   "source": [
    "a = result_df[['Name', 'ACC', 'F1 (micro)', 'AUCROC (micro)', 'F1 (macro)', 'AUCROC (macro)', 'QWK']]\n",
    "for name in ['Batch4', 'Batch8', 'Batch16', 'Batch32', 'Batch64', 'Batch128']:\n",
    "    idx = a['Name'].str.contains(name)\n",
    "    print('Model name:', name)\n",
    "    print(a[idx].copy().drop(columns=['Name']).mean())\n",
    "a"
   ]
  },
  {
   "cell_type": "code",
   "execution_count": null,
   "metadata": {},
   "outputs": [],
   "source": []
  }
 ],
 "metadata": {
  "kernelspec": {
   "display_name": "base",
   "language": "python",
   "name": "python3"
  },
  "language_info": {
   "codemirror_mode": {
    "name": "ipython",
    "version": 3
   },
   "file_extension": ".py",
   "mimetype": "text/x-python",
   "name": "python",
   "nbconvert_exporter": "python",
   "pygments_lexer": "ipython3",
   "version": "3.10.14"
  },
  "orig_nbformat": 4
 },
 "nbformat": 4,
 "nbformat_minor": 2
}
